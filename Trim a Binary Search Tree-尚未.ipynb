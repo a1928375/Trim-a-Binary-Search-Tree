{
 "cells": [
  {
   "cell_type": "markdown",
   "metadata": {},
   "source": [
    "# Mine"
   ]
  },
  {
   "cell_type": "code",
   "execution_count": null,
   "metadata": {},
   "outputs": [],
   "source": []
  },
  {
   "cell_type": "markdown",
   "metadata": {},
   "source": [
    "# Instructor"
   ]
  },
  {
   "cell_type": "code",
   "execution_count": 1,
   "metadata": {},
   "outputs": [
    {
     "name": "stdout",
     "output_type": "stream",
     "text": [
      "8 \n",
      "\n",
      "3 10 \n",
      "\n",
      "1 6 14 \n",
      "\n",
      "None\n",
      "8 \n",
      "\n",
      "6 10 \n",
      "\n",
      "None\n"
     ]
    }
   ],
   "source": [
    "import collections\n",
    "\n",
    "class TreeNode(object):\n",
    "    \n",
    "    def __init__(self, val=None):\n",
    "\n",
    "        self.val = val \n",
    "        self.leftchild = None\n",
    "        self.rightchild = None\n",
    "\n",
    "def trimBST(tree, minVal, maxVal):      #注意，此處是用postorder => 先左到底，在右到底，最後才是頂點\n",
    "    \n",
    "    if not tree: \n",
    "        \n",
    "        return \n",
    "    \n",
    "    tree.leftchild=trimBST(tree.leftchild, minVal, maxVal)     #注意，上面的base case是 ==  None，實際上也就是到達leaf nodes\n",
    "                                                               #  Ex: 此題中的node 1 => 當到達node 1時，tree = 1 => 接著會進入tree.leftchild=trimBST(tree.leftchild, minVal, maxVal)    &   \n",
    "                                                               #  tree.rightchild=trimBST(tree.rightchild, minVal, maxVal)\n",
    "                                                               #=> 進入之後，都是return None (因為node 1是leaf node)\n",
    "                                                               #=> 接著往下進入三個if判斷式 => 判斷此tree (node 1)是否符合min & max\n",
    "                                                               #=> 判斷結果是 node 1 < min => return node 1的rightchild (因為rightchild一定是比tree大，然而leaf node沒有child)\n",
    "                                                               #=> return None\n",
    "                                                               #=> 也就代表node 3的leftchild為none => node 3的leftchild被trimmed\n",
    "                                                               #=> 繼續依照此logic往下trim\n",
    "                                                                 \n",
    "    tree.rightchild=trimBST(tree.rightchild, minVal, maxVal)   #當node 3的tree.rightchild也檢查完時，就會返回上一level的recursive call\n",
    "                                                               #=>回到node 3 level => 接著往下進入三個if判斷式 => 檢查node 3是否符合min & max\n",
    "    \n",
    "    if minVal <= tree.val <= maxVal: \n",
    "        \n",
    "        return tree \n",
    "    \n",
    "    if tree.val < minVal: \n",
    "        \n",
    "        return tree.rightchild \n",
    "    \n",
    "    if tree.val > maxVal: \n",
    "        \n",
    "        return tree.leftchild \n",
    "\n",
    "def levelOrderPrint(tree):\n",
    "    \n",
    "    if not tree:\n",
    "        \n",
    "        return\n",
    "    \n",
    "    nodes = collections.deque([tree])\n",
    "    \n",
    "    currentCount, nextCount = 1, 0\n",
    "    \n",
    "    while len(nodes) != 0:\n",
    "        \n",
    "        currentNode= nodes.popleft()\n",
    "        \n",
    "        currentCount = currentCount - 1\n",
    "        \n",
    "        print (currentNode.val, end = \" \")\n",
    "        \n",
    "        if currentNode.leftchild:\n",
    "            \n",
    "            nodes.append(currentNode.leftchild)\n",
    "            \n",
    "            nextCount = nextCount + 1\n",
    "            \n",
    "        if currentNode.rightchild:\n",
    "            \n",
    "            nodes.append(currentNode.rightchild)\n",
    "            \n",
    "            nextCount = nextCount + 1\n",
    "            \n",
    "        if currentCount == 0:\n",
    "            \n",
    "            #finished printing current level\n",
    "            print ('\\n')\n",
    "            \n",
    "            currentCount, nextCount = nextCount, 0    \n",
    "\n",
    "root = TreeNode(8)\n",
    "root.rightchild = TreeNode(10)\n",
    "root.leftchild = TreeNode(3)\n",
    "root.rightchild.rightchild = TreeNode(14)\n",
    "root.leftchild.leftchild = TreeNode(1)\n",
    "root.leftchild.rightchild = TreeNode(6)\n",
    "\n",
    "print (levelOrderPrint(root))\n",
    "\n",
    "trimBST(root, 5, 13)\n",
    "\n",
    "print (levelOrderPrint(root))"
   ]
  },
  {
   "cell_type": "code",
   "execution_count": null,
   "metadata": {},
   "outputs": [],
   "source": []
  }
 ],
 "metadata": {
  "kernelspec": {
   "display_name": "Python 3",
   "language": "python",
   "name": "python3"
  },
  "language_info": {
   "codemirror_mode": {
    "name": "ipython",
    "version": 3
   },
   "file_extension": ".py",
   "mimetype": "text/x-python",
   "name": "python",
   "nbconvert_exporter": "python",
   "pygments_lexer": "ipython3",
   "version": "3.7.3"
  }
 },
 "nbformat": 4,
 "nbformat_minor": 2
}
