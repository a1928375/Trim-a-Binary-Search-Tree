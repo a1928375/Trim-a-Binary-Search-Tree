{
 "cells": [
  {
   "cell_type": "code",
   "execution_count": null,
   "metadata": {},
   "outputs": [],
   "source": [
    "class TreeNode:\n",
    "    \n",
    "    def __init__(self, k):\n",
    "        \n",
    "        self.key = k\n",
    "        \n",
    "        self.leftchild = None\n",
    "        \n",
    "        self.rightchild = None\n",
    "        \n",
    "      \n",
    "def trimBST(tree, minvalue, maxvalue):\n",
    "    \n",
    "    if tree == None:\n",
    "        \n",
    "        return None\n",
    "    \n",
    "    else:\n",
    "        \n",
    "        tree.leftchild = trimBST(tree.leftchild, minvalue, maxvalue)\n",
    "        tree.rightchild = trimBST(tree.rightchild, minvalue, maxvalue)\n",
    "    \n",
    "    if minvalue <= tree.key <= maxvalue:\n",
    "        \n",
    "        return tree\n",
    "    \n",
    "    elif tree.key < minvalue:\n",
    "        \n",
    "        return tree.rightchild\n",
    "    \n",
    "    elif maxvalue < tree.key:\n",
    "        \n",
    "        return tree.leftchild\n",
    "    \n",
    "        \n",
    "root = TreeNode(3)\n",
    "root.rightchild = TreeNode(6)\n",
    "root.leftchild = TreeNode(2)\n",
    "root.rightchild.leftchild = TreeNode(5)\n",
    "root.rightchild.rightchild = TreeNode(7)\n",
    "root.rightchild.rightchild.rightchild = TreeNode(8)\n",
    "\n",
    "print (trimBST(root, 3, 6))"
   ]
  }
 ],
 "metadata": {
  "kernelspec": {
   "display_name": "Python 3",
   "language": "python",
   "name": "python3"
  },
  "language_info": {
   "codemirror_mode": {
    "name": "ipython",
    "version": 3
   },
   "file_extension": ".py",
   "mimetype": "text/x-python",
   "name": "python",
   "nbconvert_exporter": "python",
   "pygments_lexer": "ipython3",
   "version": "3.7.3"
  }
 },
 "nbformat": 4,
 "nbformat_minor": 2
}
